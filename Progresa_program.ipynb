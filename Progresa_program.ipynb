{
 "cells": [
  {
   "cell_type": "markdown",
   "metadata": {},
   "source": [
    "\n",
    "### Author: Rohan Thakkar\n",
    "### Credits for data source: DataLab, University of Washington Seattle \n",
    "\n",
    "## Introduction to the problem\n",
    "\n",
    "For this project, I will be using data from the [Progresa program](http://en.wikipedia.org/wiki/Oportunidades), a government social assistance program in Mexico. This program, as well as the details of its impact, are described in the paper \"[School subsidies for the poor: evaluating the Mexican Progresa poverty program](http://www.sciencedirect.com/science/article/pii/S0304387803001858)\", by Paul Shultz.\n",
    "\n",
    "The goal of this problem is to implement some of the basic econometric techniques that you are learning in class to measure the impact of Progresa on secondary school enrollment rates. The timeline of the program was:\n",
    "\n",
    " * Baseline survey conducted in 1997\n",
    " * Intervention begins in 1998, \"Wave 1\" of data collected in 1998\n",
    " * \"Wave 2 of data\" collected in 1999\n",
    " * Evaluation ends in 2000, at which point the control villages were treated. "
   ]
  },
  {
   "cell_type": "markdown",
   "metadata": {},
   "source": [
    "---\n",
    "\n",
    "## Part 1: Descriptive analysis\n",
    "\n",
    "### 1.1\tSummary Statistics\n",
    "\n",
    "\n",
    "Summary statistics (mean and standard deviation) for all of the demographic variables in the dataset (i.e., everything except year, folnum, village)."
   ]
  },
  {
   "cell_type": "code",
   "execution_count": 1,
   "metadata": {
    "collapsed": false
   },
   "outputs": [
    {
     "name": "stderr",
     "output_type": "stream",
     "text": [
      "/Users/rohanmanojthakkar/anaconda/lib/python2.7/site-packages/matplotlib/font_manager.py:273: UserWarning: Matplotlib is building the font cache using fc-list. This may take a moment.\n",
      "  warnings.warn('Matplotlib is building the font cache using fc-list. This may take a moment.')\n"
     ]
    },
    {
     "data": {
      "text/html": [
       "<div>\n",
       "<table border=\"1\" class=\"dataframe\">\n",
       "  <thead>\n",
       "    <tr style=\"text-align: right;\">\n",
       "      <th></th>\n",
       "      <th>avg</th>\n",
       "      <th>std_dev</th>\n",
       "    </tr>\n",
       "  </thead>\n",
       "  <tbody>\n",
       "    <tr>\n",
       "      <th>sex</th>\n",
       "      <td>0.513572</td>\n",
       "      <td>0.499819</td>\n",
       "    </tr>\n",
       "    <tr>\n",
       "      <th>indig</th>\n",
       "      <td>0.291305</td>\n",
       "      <td>0.454367</td>\n",
       "    </tr>\n",
       "    <tr>\n",
       "      <th>dist_sec</th>\n",
       "      <td>2.34699</td>\n",
       "      <td>2.11128</td>\n",
       "    </tr>\n",
       "    <tr>\n",
       "      <th>sc</th>\n",
       "      <td>0.821102</td>\n",
       "      <td>0.38327</td>\n",
       "    </tr>\n",
       "    <tr>\n",
       "      <th>grc</th>\n",
       "      <td>4.08949</td>\n",
       "      <td>2.44761</td>\n",
       "    </tr>\n",
       "    <tr>\n",
       "      <th>fam_n</th>\n",
       "      <td>7.22467</td>\n",
       "      <td>2.32942</td>\n",
       "    </tr>\n",
       "    <tr>\n",
       "      <th>min_dist</th>\n",
       "      <td>103.595</td>\n",
       "      <td>42.0255</td>\n",
       "    </tr>\n",
       "    <tr>\n",
       "      <th>dist_cap</th>\n",
       "      <td>148.748</td>\n",
       "      <td>77.134</td>\n",
       "    </tr>\n",
       "    <tr>\n",
       "      <th>poor</th>\n",
       "      <td>0.847606</td>\n",
       "      <td>0.359405</td>\n",
       "    </tr>\n",
       "    <tr>\n",
       "      <th>progresa</th>\n",
       "      <td>0.618545</td>\n",
       "      <td>0.485747</td>\n",
       "    </tr>\n",
       "    <tr>\n",
       "      <th>hohedu</th>\n",
       "      <td>2.85391</td>\n",
       "      <td>2.65511</td>\n",
       "    </tr>\n",
       "    <tr>\n",
       "      <th>hohwag</th>\n",
       "      <td>592.782</td>\n",
       "      <td>791.378</td>\n",
       "    </tr>\n",
       "    <tr>\n",
       "      <th>welfare_index</th>\n",
       "      <td>690.196</td>\n",
       "      <td>139.489</td>\n",
       "    </tr>\n",
       "    <tr>\n",
       "      <th>hohsex</th>\n",
       "      <td>0.927744</td>\n",
       "      <td>0.258914</td>\n",
       "    </tr>\n",
       "    <tr>\n",
       "      <th>hohage</th>\n",
       "      <td>44.2622</td>\n",
       "      <td>11.4578</td>\n",
       "    </tr>\n",
       "    <tr>\n",
       "      <th>age</th>\n",
       "      <td>11.1414</td>\n",
       "      <td>2.99537</td>\n",
       "    </tr>\n",
       "    <tr>\n",
       "      <th>grc97</th>\n",
       "      <td>3.76266</td>\n",
       "      <td>2.44957</td>\n",
       "    </tr>\n",
       "    <tr>\n",
       "      <th>sc97</th>\n",
       "      <td>0.839263</td>\n",
       "      <td>0.367291</td>\n",
       "    </tr>\n",
       "  </tbody>\n",
       "</table>\n",
       "</div>"
      ],
      "text/plain": [
       "                    avg   std_dev\n",
       "sex            0.513572  0.499819\n",
       "indig          0.291305  0.454367\n",
       "dist_sec        2.34699   2.11128\n",
       "sc             0.821102   0.38327\n",
       "grc             4.08949   2.44761\n",
       "fam_n           7.22467   2.32942\n",
       "min_dist        103.595   42.0255\n",
       "dist_cap        148.748    77.134\n",
       "poor           0.847606  0.359405\n",
       "progresa       0.618545  0.485747\n",
       "hohedu          2.85391   2.65511\n",
       "hohwag          592.782   791.378\n",
       "welfare_index   690.196   139.489\n",
       "hohsex         0.927744  0.258914\n",
       "hohage          44.2622   11.4578\n",
       "age             11.1414   2.99537\n",
       "grc97           3.76266   2.44957\n",
       "sc97           0.839263  0.367291"
      ]
     },
     "execution_count": 1,
     "metadata": {},
     "output_type": "execute_result"
    }
   ],
   "source": [
    "import pandas as pd\n",
    "\n",
    "import numpy as np\n",
    "\n",
    "# Importing required package for plotting\n",
    "import pylab as plt\n",
    "\n",
    "# Module for plotting\n",
    "import matplotlib\n",
    "\n",
    "# For plotting the images on the same page\n",
    "%matplotlib inline\n",
    "\n",
    "# SciPy implements many different numerical algorithms\n",
    "import scipy\n",
    "\n",
    "from scipy import stats\n",
    "\n",
    "# Read the data set and store it in 'progresa' named data-frame\n",
    "progresa = pd.read_csv('progresa_sample.csv')\n",
    "\n",
    "# Remove the rows with N/A value in either of the columns\n",
    "progresa = progresa.dropna()\n",
    "\n",
    "# Create empty lists to store modified values of columns\n",
    "d = []\n",
    "e = []\n",
    "x = []\n",
    "\n",
    "# If poor = 'pobre', replace by 1; else 0\n",
    "for i in progresa.poor:\n",
    "    if i == 'pobre':\n",
    "        d.append(1)\n",
    "    else:\n",
    "        d.append(0)\n",
    "   \n",
    "\n",
    "# If progresa = 'basal', replace by 1; else 0\n",
    "for j in progresa.progresa:\n",
    "    if j == 'basal':\n",
    "        e.append(1)\n",
    "    else:\n",
    "        e.append(0)\n",
    "    \n",
    "# Transforming 1997 and 1998 to 0 and 1 for simplicity reasons and further use in double difference regression   \n",
    "# If year = 1997, replace by 0; else 1\n",
    "for k in progresa.year:\n",
    "    if k == 97:\n",
    "        x.append(0)\n",
    "    else:\n",
    "        x.append(1)\n",
    "\n",
    "# Replace columns by new values        \n",
    "progresa.poor = d\n",
    "progresa.progresa = e    \n",
    "progresa.year = x\n",
    "\n",
    "# Creating index for new data frame to store demographic variables\n",
    "index = pd.Series(['sex', 'indig', 'dist_sec', 'sc', 'grc', 'fam_n',\n",
    "       'min_dist', 'dist_cap', 'poor', 'progresa', 'hohedu', 'hohwag',\n",
    "       'welfare_index', 'hohsex', 'hohage', 'age','grc97', 'sc97'])\n",
    "\n",
    "# Creating columns for new data frame to store demographic variables\n",
    "columns = {'avg','std_dev'}\n",
    "\n",
    "# Creating an empty data frame named 'new' to store mean and standard deviations of demographic variables\n",
    "new = pd.DataFrame(index = index, columns = columns) \n",
    "\n",
    "# Creating new data frame with columns 'year','folnum' and 'vilage' dropped\n",
    "progresa_1 = progresa[['sex', 'indig', 'dist_sec', 'sc', 'grc', 'fam_n',\n",
    "       'min_dist', 'dist_cap', 'poor', 'progresa', 'hohedu', 'hohwag',\n",
    "       'welfare_index', 'hohsex', 'hohage', 'age','grc97', 'sc97']]\n",
    "\n",
    "# Calculating the mean and standard values in the empty data frame\n",
    "for i in range(18):\n",
    "    new.std_dev[i] = progresa_1[progresa_1.columns[i]].std()\n",
    "    new.avg[i] = progresa_1[progresa_1.columns[i]].mean()\n",
    "\n",
    "# Display summary statistics (mean and std. dev) of each variable\n",
    "new"
   ]
  },
  {
   "cell_type": "markdown",
   "metadata": {},
   "source": [
    "### 1.2 Differences at baseline?\n",
    "\n",
    "Checking if the baseline (1997) demographic characteristics **for the poor**  different in treatment and control villages? Hint: Use a T-Test to determine whether there is a statistically significant difference in the average values of each of the variables in the dataset. Focus only on the data from 1997 for individuals who are poor (i.e., poor=='pobre')."
   ]
  },
  {
   "cell_type": "code",
   "execution_count": 2,
   "metadata": {
    "collapsed": false,
    "scrolled": false
   },
   "outputs": [
    {
     "name": "stderr",
     "output_type": "stream",
     "text": [
      "/Users/rohanmanojthakkar/anaconda/lib/python2.7/site-packages/ipykernel/__main__.py:2: UserWarning: Boolean Series key will be reindexed to match DataFrame index.\n",
      "  from ipykernel import kernelapp as app\n",
      "/Users/rohanmanojthakkar/anaconda/lib/python2.7/site-packages/ipykernel/__main__.py:5: UserWarning: Boolean Series key will be reindexed to match DataFrame index.\n"
     ]
    },
    {
     "data": {
      "text/html": [
       "<div>\n",
       "<table border=\"1\" class=\"dataframe\">\n",
       "  <thead>\n",
       "    <tr style=\"text-align: right;\">\n",
       "      <th></th>\n",
       "      <th>avg_treatment</th>\n",
       "      <th>avg_control</th>\n",
       "      <th>difference</th>\n",
       "      <th>p_value</th>\n",
       "      <th>significant</th>\n",
       "    </tr>\n",
       "  </thead>\n",
       "  <tbody>\n",
       "    <tr>\n",
       "      <th>sex</th>\n",
       "      <td>0.520268</td>\n",
       "      <td>0.506556</td>\n",
       "      <td>0.0137127</td>\n",
       "      <td>0.0195696</td>\n",
       "      <td>YES</td>\n",
       "    </tr>\n",
       "    <tr>\n",
       "      <th>indig</th>\n",
       "      <td>0.316744</td>\n",
       "      <td>0.325306</td>\n",
       "      <td>-0.00856191</td>\n",
       "      <td>0.118376</td>\n",
       "      <td>NO</td>\n",
       "    </tr>\n",
       "    <tr>\n",
       "      <th>dist_sec</th>\n",
       "      <td>2.39965</td>\n",
       "      <td>2.40069</td>\n",
       "      <td>-0.00103892</td>\n",
       "      <td>0.967095</td>\n",
       "      <td>NO</td>\n",
       "    </tr>\n",
       "    <tr>\n",
       "      <th>fam_n</th>\n",
       "      <td>7.28103</td>\n",
       "      <td>7.30294</td>\n",
       "      <td>-0.0219074</td>\n",
       "      <td>0.423609</td>\n",
       "      <td>NO</td>\n",
       "    </tr>\n",
       "    <tr>\n",
       "      <th>min_dist</th>\n",
       "      <td>107.395</td>\n",
       "      <td>103.098</td>\n",
       "      <td>4.29688</td>\n",
       "      <td>1.93666e-18</td>\n",
       "      <td>YES</td>\n",
       "    </tr>\n",
       "    <tr>\n",
       "      <th>dist_cap</th>\n",
       "      <td>151.801</td>\n",
       "      <td>154.492</td>\n",
       "      <td>-2.69062</td>\n",
       "      <td>0.00341419</td>\n",
       "      <td>YES</td>\n",
       "    </tr>\n",
       "    <tr>\n",
       "      <th>hohedu</th>\n",
       "      <td>2.72673</td>\n",
       "      <td>2.66098</td>\n",
       "      <td>0.0657472</td>\n",
       "      <td>0.0261324</td>\n",
       "      <td>YES</td>\n",
       "    </tr>\n",
       "    <tr>\n",
       "      <th>hohwag</th>\n",
       "      <td>550.207</td>\n",
       "      <td>580.694</td>\n",
       "      <td>-30.4874</td>\n",
       "      <td>0.000272766</td>\n",
       "      <td>YES</td>\n",
       "    </tr>\n",
       "    <tr>\n",
       "      <th>welfare_index</th>\n",
       "      <td>656.81</td>\n",
       "      <td>661.594</td>\n",
       "      <td>-4.78304</td>\n",
       "      <td>0.000372404</td>\n",
       "      <td>YES</td>\n",
       "    </tr>\n",
       "    <tr>\n",
       "      <th>hohsex</th>\n",
       "      <td>0.925586</td>\n",
       "      <td>0.923387</td>\n",
       "      <td>0.00219928</td>\n",
       "      <td>0.478123</td>\n",
       "      <td>NO</td>\n",
       "    </tr>\n",
       "    <tr>\n",
       "      <th>hohage</th>\n",
       "      <td>43.6312</td>\n",
       "      <td>44.2707</td>\n",
       "      <td>-0.639483</td>\n",
       "      <td>1.92577e-06</td>\n",
       "      <td>YES</td>\n",
       "    </tr>\n",
       "    <tr>\n",
       "      <th>age</th>\n",
       "      <td>10.7438</td>\n",
       "      <td>10.7856</td>\n",
       "      <td>-0.0417607</td>\n",
       "      <td>0.247616</td>\n",
       "      <td>NO</td>\n",
       "    </tr>\n",
       "  </tbody>\n",
       "</table>\n",
       "</div>"
      ],
      "text/plain": [
       "              avg_treatment avg_control  difference      p_value significant\n",
       "sex                0.520268    0.506556   0.0137127    0.0195696         YES\n",
       "indig              0.316744    0.325306 -0.00856191     0.118376          NO\n",
       "dist_sec            2.39965     2.40069 -0.00103892     0.967095          NO\n",
       "fam_n               7.28103     7.30294  -0.0219074     0.423609          NO\n",
       "min_dist            107.395     103.098     4.29688  1.93666e-18         YES\n",
       "dist_cap            151.801     154.492    -2.69062   0.00341419         YES\n",
       "hohedu              2.72673     2.66098   0.0657472    0.0261324         YES\n",
       "hohwag              550.207     580.694    -30.4874  0.000272766         YES\n",
       "welfare_index        656.81     661.594    -4.78304  0.000372404         YES\n",
       "hohsex             0.925586    0.923387  0.00219928     0.478123          NO\n",
       "hohage              43.6312     44.2707   -0.639483  1.92577e-06         YES\n",
       "age                 10.7438     10.7856  -0.0417607     0.247616          NO"
      ]
     },
     "execution_count": 2,
     "metadata": {},
     "output_type": "execute_result"
    }
   ],
   "source": [
    "# Poor people in the treatment group in 1997\n",
    "pdiff_1 = progresa[progresa.year == 0][progresa.poor == 1][progresa.progresa==1]\n",
    "\n",
    "# Poor people in the control group in 1997\n",
    "pdiff_2 = progresa[progresa.year == 0][progresa.poor == 1][progresa.progresa==0]\n",
    "\n",
    "# Removing sc, grc, sc97, grc97, progresa since they are not demographic characteristics\n",
    "index_2 = pd.Series(['sex', 'indig', 'dist_sec', 'fam_n',\n",
    "       'min_dist', 'dist_cap', 'hohedu', 'hohwag',\n",
    "       'welfare_index', 'hohsex', 'hohage', 'age'])\n",
    "\n",
    "# Defining the columns of the required output table\n",
    "columns_2 = pd.Series(['avg_treatment', 'avg_control', 'difference', 'p_value','significant'])\n",
    "\n",
    "\n",
    "# Creating a new data frame for poor people in the treatment group in 1997 with unnecessary columns removed\n",
    "pdiff_1_1 = pdiff_1[['sex', 'indig', 'dist_sec', 'fam_n',\n",
    "       'min_dist', 'dist_cap', 'hohedu', 'hohwag',\n",
    "       'welfare_index', 'hohsex', 'hohage', 'age']]\n",
    "\n",
    "# Creating a new data frame for control people in the treatment group in 1997 with unnecessary columns removed\n",
    "pdiff_2_1 = pdiff_2[['sex', 'indig', 'dist_sec', 'fam_n',\n",
    "       'min_dist', 'dist_cap', 'hohedu', 'hohwag',\n",
    "       'welfare_index', 'hohsex', 'hohage', 'age']]\n",
    "\n",
    "# Creating a new data frame to store the values required in the question\n",
    "new_2 = pd.DataFrame(index = index_2, columns=columns_2)\n",
    "\n",
    "# Filling the data frame with average treatment value, average control value, difference in the two and p-value for the characteristic\n",
    "for i in range(12):\n",
    "    # Average value of column in treatment group in 1997\n",
    "    new_2.avg_treatment[i] = pdiff_1_1[pdiff_1_1.columns[i]].mean()\n",
    "    # Average value of column in control group in 1997\n",
    "    new_2.avg_control[i] = pdiff_2_1[pdiff_2_1.columns[i]].mean()\n",
    "    # Difference in the average values of column in treatment and control group in 1997\n",
    "    new_2.difference[i] = new_2.avg_treatment[i] - new_2.avg_control[i]\n",
    "    # Calculating the p-value for statistical difference using a t-statistic test on treatment and control groups in 1997 with N/As removed\n",
    "    new_2.p_value[i] = scipy.stats.ttest_ind(pdiff_1_1[pdiff_1_1.columns[i]], pdiff_2_1[pdiff_2_1.columns[i]]).pvalue\n",
    "    # If P-value <0.05, it is statistically significant; else it is not\n",
    "    if new_2.p_value[i]>0.05:\n",
    "        new_2.significant[i] = \"NO\"\n",
    "    else:\n",
    "        new_2.significant[i] = \"YES\"\n",
    "    \n",
    "# Displaying filled-out data frame\n",
    "new_2"
   ]
  },
  {
   "cell_type": "markdown",
   "metadata": {},
   "source": [
    "### 1.3 Interpretation"
   ]
  },
  {
   "cell_type": "markdown",
   "metadata": {},
   "source": [
    "* A: Are there statistically significant differences between treatment and control villages as baseline? \n",
    "\n",
    "\n",
    "There are statistically significant differences between the poor in treatment and control villages at baseline for certain demographic characteristics like sex, minimum distance to urban center, minimum distance to capital as well as household head's education, monthly wages and age. Also, the welfare index has a statistically significant difference.\n",
    "\n",
    "* B: Why does it matter if there are differences at baseline?\n",
    "\n",
    "It may matter if there are differences at baseline when we adopt impact evaluation approaches like the single difference approach which measure the impact of a treatment only by comparing only the post-treatment values for treatment and control groups.  This is on an assumption that the pre-treatment values would have been statistically indifferent for the treatment and control groups.  In the difference-in-difference approach, however, we take into account the difference in pre-treatment values of the treatment and control groups and thus, the differences at baseline do not really matter much here.\n",
    "\n",
    "* C: What does this imply about how to measure the impact of the treatment?\n",
    "\n",
    "When there are statistically significant differences between treatment and control villages as baseline, it is advisable to use impact evaluation approaches like the difference-in-difference approach which also account for this difference in pre-treatment values of treatment and control groups.  Using simple difference approach in these cases might not be the best idea."
   ]
  },
  {
   "cell_type": "markdown",
   "metadata": {},
   "source": [
    "### 1.4 Graphical exploration, part 1\n",
    "\n",
    "For each level of household head education, let's compute the average enrollment rate in 1997."
   ]
  },
  {
   "cell_type": "code",
   "execution_count": 3,
   "metadata": {
    "collapsed": false
   },
   "outputs": [
    {
     "data": {
      "image/png": "[encoded data removed]",
      "text/plain": [
       "<matplotlib.figure.Figure at 0x1146b2790>"
      ]
     },
     "metadata": {},
     "output_type": "display_data"
    }
   ],
   "source": [
    "# Subsetting for year=1997 and grouping by the level of household head education, calculating the mean for \n",
    "f1 = progresa[progresa.year==0].groupby([progresa.hohedu]).mean()\n",
    "\n",
    "# Making a scatter plot for mean enrollment rate in 1997 v/s household head education level\n",
    "plt.scatter(f1.hohedu, f1.sc)\n",
    "\n",
    "# Since the range of level of household head education ranges from 0 to 20 only\n",
    "plt.xlim([-1,21])\n",
    "\n",
    "# Naming the title, x-axis and y-axis of the plot\n",
    "plt.title('Mean enrollment rate by household head education level')\n",
    "plt.xlabel('Level of household head education')\n",
    "plt.ylabel('Average enrollment rate in 1997')\n",
    "\n",
    "# Displaying the resultant diagram\n",
    "plt.show()"
   ]
  },
  {
   "cell_type": "markdown",
   "metadata": {},
   "source": [
    "From the above scatterplot, I understand that on a general note, the average enrollment rate in 1997 was higher for a higher level of education of the household head, except for the last case where average enrollment rate for the highest level of education (= 20) had surprisingly the lowest enrollment rate in the chart."
   ]
  },
  {
   "cell_type": "markdown",
   "metadata": {},
   "source": [
    "### 1.5 Graphical exploration, part 2\n",
    "\n",
    "Lets explore the village enrollment rates **among poor households in treated villages**, before and after treatment."
   ]
  },
  {
   "cell_type": "code",
   "execution_count": 4,
   "metadata": {
    "collapsed": false
   },
   "outputs": [
    {
     "data": {
      "text/plain": [
       "<matplotlib.text.Text at 0x116530410>"
      ]
     },
     "execution_count": 4,
     "metadata": {},
     "output_type": "execute_result"
    },
    {
     "data": {
      "image/png": "[encoded data removed]",
      "text/plain": [
       "<matplotlib.figure.Figure at 0x116c585d0>"
      ]
     },
     "metadata": {},
     "output_type": "display_data"
    }
   ],
   "source": [
    "# Remember that pdiff_1 represents the poor in treatment before treatment (in 1997)\n",
    "\n",
    "# Grouping by village-id and calculating the corresponding mean column values for each row\n",
    "sample_1 = pdiff_1.groupby(pdiff_1.village).mean()\n",
    "\n",
    "#import matplotlib.pyplot as plt\n",
    "\n",
    "# Histogram of the enrollment rates of the poor in treatment group in 1997\n",
    "sample_1['sc'].plot(kind='hist', stacked=True, color='cyan') \n",
    "   \n",
    "# Drawing a vertical line intersecting the X-axis at the average enrollment rate for the treatment group in 1997\n",
    "plt.axvline(sample_1.sc.mean(), color='r', linestyle='dashed', linewidth=4)\n",
    "\n",
    "# Naming the title of the plot\n",
    "plt.title('Number of villages for enrollment rates of poor in treatment group in 1997')\n",
    "\n",
    "# Labeling the X-axis\n",
    "plt.xlabel('Enrollment rate')\n",
    "# Labeling the Y-axis\n",
    "plt.ylabel('Number of villages')"
   ]
  },
  {
   "cell_type": "code",
   "execution_count": 5,
   "metadata": {
    "collapsed": false
   },
   "outputs": [
    {
     "name": "stderr",
     "output_type": "stream",
     "text": [
      "/Users/rohanmanojthakkar/anaconda/lib/python2.7/site-packages/ipykernel/__main__.py:2: UserWarning: Boolean Series key will be reindexed to match DataFrame index.\n",
      "  from ipykernel import kernelapp as app\n"
     ]
    },
    {
     "data": {
      "text/plain": [
       "<matplotlib.text.Text at 0x11891a210>"
      ]
     },
     "execution_count": 5,
     "metadata": {},
     "output_type": "execute_result"
    },
    {
     "data": {
      "image/png": "[encoded data removed]",
      "text/plain": [
       "<matplotlib.figure.Figure at 0x11653c590>"
      ]
     },
     "metadata": {},
     "output_type": "display_data"
    }
   ],
   "source": [
    "# Creating a data frame for the poor in treatment group in 1998\n",
    "pdiff_3 = progresa[progresa.year == 1][progresa.poor == 1][progresa.progresa==1]\n",
    "\n",
    "# Grouping by village-id and calculating the corresponding mean column values for each row\n",
    "sample_2 = pdiff_3.groupby(pdiff_3.village).mean()\n",
    "\n",
    "# Histogram of the enrollment rates of the poor in treatment group in 1998\n",
    "sample_2['sc'].plot(kind='hist', stacked=True, color='red') \n",
    "    \n",
    "# Drawing a vertical line intersecting the X-axis at the average enrollment rate for the treatment group in 1998\n",
    "plt.axvline(sample_2.sc.mean(), color='cyan', linestyle='dashed', linewidth=4)\n",
    "\n",
    "# Naming the title of the plot\n",
    "plt.title('Number of villages for enrollment rates of poor in treatment group in 1998')\n",
    "\n",
    "# Labeling the X-axis\n",
    "plt.xlabel('Enrollment rate')\n",
    "\n",
    "# Labeling the Y-axis\n",
    "plt.ylabel('Number of villages')"
   ]
  },
  {
   "cell_type": "markdown",
   "metadata": {},
   "source": [
    "As we can see from the above two histogram plots, there surely is a difference in the average value of enrollment rate in the two cases, with the value being around 0.81 in the first case, whereas it being around 0.83-0.84 in the sceond case.  To measure the statistical significance of the difference in the two, we run a T-test and compare the resultant P-value with 0.05 (Assuming a 95% confidence interval) to test the null hypothesis."
   ]
  },
  {
   "cell_type": "code",
   "execution_count": 6,
   "metadata": {
    "collapsed": false
   },
   "outputs": [
    {
     "name": "stdout",
     "output_type": "stream",
     "text": [
      "\n",
      "Question: Is the P-value lesser than 0.05?\n",
      "Answer: True\n"
     ]
    }
   ],
   "source": [
    "# Running a t-test to compare the average enrollment rates of the treatment group in two years and comparing the resultant P-value with 0.05\n",
    "print '\\nQuestion: Is the P-value lesser than 0.05?\\nAnswer:',scipy.stats.ttest_ind(sample_1.sc, sample_2.sc).pvalue<0.05"
   ]
  },
  {
   "cell_type": "markdown",
   "metadata": {},
   "source": [
    "Thus, we can see that the P-value of the difference in the two average values is less than 0.05, which means that there is a strong evidence against the null hypothesis, which leads us to support the alternative hypothesis that there indeed is a statistically significant difference in the average values of the enrollment rates of the treatment group in 1997 and 1998 for the poor in treatment group."
   ]
  },
  {
   "cell_type": "markdown",
   "metadata": {},
   "source": [
    "## Part 2: Measuring Impact\n",
    "\n",
    "Our goal is to estimate the causal impact of the PROGRESA program on the social and economic outcomes of individuals in Mexico. We will focus on the impact of the program on the poor (those with poor=='pobre'), since only the poor were eligible to receive the PROGRESA assistance.\n",
    "\n",
    "### 2.1 Simple differences: T-test\n",
    "\n",
    "Let us begin by estimating the impact of Progresa using \"simple differences\" - restricting to data from 1998 (after treatment), calculate the average enrollment rate among **poor** households in the Treatment villages and the average enrollment rate among **poor** households in the control villages and then use a t-test to determine if this difference is statistically significant."
   ]
  },
  {
   "cell_type": "code",
   "execution_count": 7,
   "metadata": {
    "collapsed": false,
    "scrolled": true
   },
   "outputs": [
    {
     "name": "stdout",
     "output_type": "stream",
     "text": [
      "Average enrollment rate among poor households in the treatment group in 1998 is 0.849257030578\n",
      "Average enrollment rate among poor households in the control group in 1998 is 0.810923092512\n",
      "Single difference is 0.0383339380665\n",
      "\n",
      "The P-value of the difference calculated from the T-test is  5.65645560536e-16\n",
      "\n",
      "Question: Is the P-value lesser than 0.05?\n",
      "Answer: True\n"
     ]
    },
    {
     "name": "stderr",
     "output_type": "stream",
     "text": [
      "/Users/rohanmanojthakkar/anaconda/lib/python2.7/site-packages/ipykernel/__main__.py:2: UserWarning: Boolean Series key will be reindexed to match DataFrame index.\n",
      "  from ipykernel import kernelapp as app\n"
     ]
    }
   ],
   "source": [
    "# To represent the poor in the control group in 1998\n",
    "pdiff_4 = progresa[progresa.year == 1][progresa.poor == 1][progresa.progresa==0]\n",
    "\n",
    "# Since pdiff_3 represents the poor in treatment group in 1998, the average enrollment rate among poor households in the treatment group in 1998 can be calculated as the following\n",
    "avg_enrol_1 = pdiff_3.sc.mean()\n",
    "\n",
    "# Average enrollment rate among poor households in the control group in 1998\n",
    "avg_enrol_2 = pdiff_4.sc.mean()\n",
    "\n",
    "print 'Average enrollment rate among poor households in the treatment group in 1998 is',avg_enrol_1\n",
    "\n",
    "print 'Average enrollment rate among poor households in the control group in 1998 is', avg_enrol_2\n",
    "\n",
    "print 'Single difference is',avg_enrol_1-avg_enrol_2\n",
    "\n",
    "# Running a T-test on the difference in enrollment rates of the poor in treatment and control groups in 1998 and display the resultant P-value\n",
    "print '\\nThe P-value of the difference calculated from the T-test is ',scipy.stats.ttest_ind(pdiff_3.sc, pdiff_4.sc).pvalue\n",
    "\n",
    "# Comparing the resultant P-value with 0.05 (assuming a 95% confidence interval to test the null hypothesis)\n",
    "print '\\nQuestion: Is the P-value lesser than 0.05?\\nAnswer:',scipy.stats.ttest_ind(pdiff_3.sc, pdiff_4.sc).pvalue<0.05"
   ]
  },
  {
   "cell_type": "markdown",
   "metadata": {},
   "source": [
    "Since the single difference can be calculated as (Average enrollment of treatment) - (Average enrollment of control), the percentage impact of the program can be estimated to be 3.83% according to the single difference in enrollment rates of treatment v/s control groups.\n",
    "\n",
    "On running the T-test to determine statistical significance in difference between the average enrollment of treatment and control groups in 1998, we get the resultant P-value to be lesser than 0.05, which means that we reject the null hypothesis that the two values are comparable and accept the alternative hypothesis that the two have a statistically significant difference."
   ]
  },
  {
   "cell_type": "markdown",
   "metadata": {},
   "source": [
    "### 2.2 Simple differences: Regression\n",
    "\n",
    "Let us estimate the effects of Progresa on enrollment using a regression model, by regressing the 1998 enrollment rates **of the poor** on treatment assignment"
   ]
  },
  {
   "cell_type": "code",
   "execution_count": 8,
   "metadata": {
    "collapsed": false
   },
   "outputs": [
    {
     "name": "stdout",
     "output_type": "stream",
     "text": [
      "Thus the regression can be represented as y =  0.0383339380665 * f2.progresa + 0.810923092512  with a standard error of 0.00473162091943\n"
     ]
    },
    {
     "name": "stderr",
     "output_type": "stream",
     "text": [
      "/Users/rohanmanojthakkar/anaconda/lib/python2.7/site-packages/ipykernel/__main__.py:5: UserWarning: Boolean Series key will be reindexed to match DataFrame index.\n"
     ]
    },
    {
     "data": {
      "image/png": "[encoded data removed]",
      "text/plain": [
       "<matplotlib.figure.Figure at 0x116c1edd0>"
      ]
     },
     "metadata": {},
     "output_type": "display_data"
    }
   ],
   "source": [
    "# Importing package needed for fitting linear regression\n",
    "import scipy.stats as stats\n",
    "\n",
    "# Considering only the entries with non-N/A values for enrollment of the poor in 1998\n",
    "f2 = progresa[progresa.year==1][progresa.poor==1]\n",
    "\n",
    "# Extracting the parameters of fitted linear regression\n",
    "slope_1, intercept_1, r_value_1, p_value_1, std_err_1 = stats.linregress(f2.progresa, f2.sc)\n",
    "\n",
    "# Plotting a line y = slope*x where slope is determined from the above regression and x is the predictor variable, i.e., 'hour'\n",
    "print 'Thus the regression can be represented as y = ',slope_1,'* f2.progresa', '+', intercept_1,' with a standard error of',std_err_1\n",
    "\n",
    "# Writing the equation of the regression line\n",
    "y = slope_1*f2.progresa+intercept_1\n",
    "\n",
    "# Adding the above line to earlier scatter plot\n",
    "plt.plot(f2.progresa, y, 'r-')\n",
    "\n",
    "# Naming the title, x-axis and y-axis of the plot\n",
    "plt.title('Enrollment rate of the poor in 1998 on status of treatment')\n",
    "plt.xlabel('In treatment group? (0 = No; 1 = Yes)')\n",
    "plt.ylabel('Enrollment rate')\n",
    "\n",
    "# Displaying the resultant diagram\n",
    "plt.show()"
   ]
  },
  {
   "cell_type": "markdown",
   "metadata": {},
   "source": [
    "* Based on this model, how much did Progresa increase the likelihood of a child enrolling?\n",
    "\n",
    "Based on this model, Progresa increased the likelihood of a child enrolling by the value of the slope of the regression function, i.e., 0.0383339380665 which means by 3.83%.  We can say so because the predictor variable is 1 if treatment has occured and 0 otherwise, resulting in the co-efficient of this term being the difference in the value of response variable between the two cases."
   ]
  },
  {
   "cell_type": "code",
   "execution_count": 9,
   "metadata": {
    "collapsed": false
   },
   "outputs": [
    {
     "name": "stdout",
     "output_type": "stream",
     "text": [
      "\n",
      "P-value is 5.65645560536e-16 \n",
      "Question: Can we reject the null hypothesis that the treatment effects are zero?\n",
      "Answer: True\n"
     ]
    }
   ],
   "source": [
    "print '\\nP-value is',p_value_1,'\\nQuestion: Can we reject the null hypothesis that the treatment effects are zero?\\nAnswer:',p_value_1<0.05"
   ]
  },
  {
   "cell_type": "markdown",
   "metadata": {},
   "source": [
    "* How does this regression estimate compare to your t-test estimate from part 2.1?\n",
    "\n",
    "As we compare the regression estimate (i.e., the slope of the regression line) to the single-difference, we understand that the rwo valeus are exactly the same = 0.0383339380665 and so are the P-values in both the cases = 5.65645560537e-16.  Thus, the estimates provided by regression and t-test are the same.\n",
    "\n",
    "* Based on this regression model, can we reject the null hypothesis that the treatment effects are zero?\n",
    "\n",
    "Since the P-value of the regression line is once again less than 0.05 (assuming a 95% confidence interval), we can reject the null hypothesis that the treatment effects are zero.  Alternatively, this means that the treatment effects have a non-negligible impact on enrollment rate.\n",
    "\n",
    "* What is the counterfactual assumption underlying this regression?\n",
    "\n",
    "The counterfactual assumption underlying this regression is that the values of the treatment and the control groups would have been the same in the absence of treatment, with the value being equal to the intercept of the above regression, i.e., 0.810923092512.  This can be understood as the case of regression where f2.progresa == 0 (absence of treatment), thus resulting in the enrollment rate being equal to the intercept of the line."
   ]
  },
  {
   "cell_type": "markdown",
   "metadata": {},
   "source": [
    "### 2.3 Multiple Regression\n",
    "\n",
    "Let us try and re-run the above regression estimated but this time include a set of control variables. Include, for instance, age, distance to a secondary school, gender, education of household head, welfare index, indigenous, etc."
   ]
  },
  {
   "cell_type": "code",
   "execution_count": 10,
   "metadata": {
    "collapsed": false,
    "scrolled": true
   },
   "outputs": [
    {
     "name": "stdout",
     "output_type": "stream",
     "text": [
      "                            OLS Regression Results                            \n",
      "==============================================================================\n",
      "Dep. Variable:                     sc   R-squared:                       0.259\n",
      "Model:                            OLS   Adj. R-squared:                  0.259\n",
      "Method:                 Least Squares   F-statistic:                     1522.\n",
      "Date:                Tue, 20 Dec 2016   Prob (F-statistic):               0.00\n",
      "Time:                        21:02:17   Log-Likelihood:                -7287.0\n",
      "No. Observations:               26155   AIC:                         1.459e+04\n",
      "Df Residuals:                   26148   BIC:                         1.465e+04\n",
      "Df Model:                           6                                         \n",
      "Covariance Type:            nonrobust                                         \n",
      "==============================================================================\n",
      "                 coef    std err          t      P>|t|      [95.0% Conf. Int.]\n",
      "------------------------------------------------------------------------------\n",
      "Intercept      1.5619      0.013    124.095      0.000         1.537     1.587\n",
      "progresa       0.0356      0.004      8.732      0.000         0.028     0.044\n",
      "age           -0.0655      0.001    -93.414      0.000        -0.067    -0.064\n",
      "fam_n         -0.0018      0.001     -2.031      0.042        -0.003 -6.17e-05\n",
      "hohsex         0.0189      0.008      2.421      0.015         0.004     0.034\n",
      "indig          0.0501      0.004     11.813      0.000         0.042     0.058\n",
      "dist_sec      -0.0118      0.001    -12.735      0.000        -0.014    -0.010\n",
      "==============================================================================\n",
      "Omnibus:                     3091.922   Durbin-Watson:                   1.713\n",
      "Prob(Omnibus):                  0.000   Jarque-Bera (JB):             4306.996\n",
      "Skew:                          -0.981   Prob(JB):                         0.00\n",
      "Kurtosis:                       3.322   Cond. No.                         95.5\n",
      "==============================================================================\n",
      "\n",
      "Warnings:\n",
      "[1] Standard Errors assume that the covariance matrix of the errors is correctly specified.\n",
      "\n",
      "Co-efficient of the treatment variable in regression is 0.0356200475918\n"
     ]
    }
   ],
   "source": [
    "# Needed to fit multipleregression model\n",
    "import statsmodels.formula.api as smf\n",
    "\n",
    "# Adding some control variables that were not statistically different at the baseline and fitting a multiple regression model\n",
    "new = smf.ols(formula = 'sc ~ progresa + age + fam_n + hohsex + indig + dist_sec', data = f2).fit()\n",
    "\n",
    "# Printing the summary table of the fitted linear regression\n",
    "print new.summary()\n",
    "\n",
    "# Printing the co-efficient of the treatment variable\n",
    "print '\\nCo-efficient of the treatment variable in regression is',new.params[1]"
   ]
  },
  {
   "cell_type": "markdown",
   "metadata": {},
   "source": [
    "* How do the controls affect the point estimate of treatment effect?\n",
    "\n",
    "On adding additional controls like age, household head's sex, family size, whether or not is the child indigenous to the area, and the nearest distance to secondary school, the point estimate of treatment effect is the value of the co-efficient of the progresa variable, i.e., 0.0356 which is lesser as compared to the earlier case (0.038) where there was no control variable.\n",
    "\n",
    "\n",
    "* How do the controls affect the standard error on the treatment effect? \n",
    "\n",
    "Adding additional controls only minorly impact the standard error of the treatment effect which is 0.004 in this case as compared to the earlier case with no control variable where the standard error was estimated to be 0.0047.  This is also reasonable since the control variables are expected to identify the relationship among predictor variables, thus giving a better estimate of the impact of any predictor variable, instead of causing a significant difference in the measured standard error.\n",
    "\n",
    "\n",
    "* How to interpret the differences (or similarities) between your estimates of 2.2 and 2.3?\n",
    "\n",
    "By interpreting the differences between my estimates of 2.2 and 2.3, I understand that the enrollment rate is not only affected by the classification of an entry into treatment and control, but also depends on additional control variables, because of which the impact of the 'progresa' predictor is slightly lesser when additional control variables are added, compared to the case of simple linear regression with only one predictor variable based on treatment status."
   ]
  },
  {
   "cell_type": "markdown",
   "metadata": {},
   "source": [
    "### 2.4 Difference-in-Difference, version 1 (tabular)\n",
    "\n",
    "Thus far, we have computed the effects of Progresa by estimating the difference in 1998 enrollment rates across villages. An alternative approach would be to compute the treatment effect using a difference-in-differences framework.\n",
    "\n",
    "Let us begin by estimating the average treatment effects of the program for poor households using data from 1997 and 1998. Specifically, calculate the difference (between 1997 and 1998) in enrollment rates among poor households in treated villages; then compute the difference (between 1997 and 1998) in enrollment rates among poor households in control villages. The difference between these two differences is our estimate."
   ]
  },
  {
   "cell_type": "code",
   "execution_count": 11,
   "metadata": {
    "collapsed": false
   },
   "outputs": [
    {
     "name": "stdout",
     "output_type": "stream",
     "text": [
      "The estimate of impact of Progresa according to difference-in-difference approach is 0.0307029732307\n"
     ]
    }
   ],
   "source": [
    "# Enrollment rate of poor in treatment class in 1997 \n",
    "avg_enrol_3 = pdiff_1.sc.mean()\n",
    "\n",
    "# Enrollment rate of poor in control class in 1997\n",
    "avg_enrol_4 = pdiff_2.sc.mean()\n",
    "\n",
    "# Since avg_enrol_1 represent the average enrollment of poor in treatment group in 1998 and avg_enrol_2 represent the average enrollment of poor in control group in 1998\n",
    "print 'The estimate of impact of Progresa according to difference-in-difference approach is',(avg_enrol_1-avg_enrol_3)-(avg_enrol_2-avg_enrol_4)"
   ]
  },
  {
   "cell_type": "markdown",
   "metadata": {},
   "source": [
    "\n",
    "* What is the estimate of the impact, and how does it compare to your earlier (simple difference) results?\n",
    "\n",
    "\n",
    "Thus, we see that by the difference-in-difference approach of impact evaluation, the estimate of Progresa is 3.07% which is lower than the estimate of the same by simple-difference approach where the value was 3.83%.  This means that the impact of the progresa treatment is evaluated to be lesser in the difference-in-difference approach as compared to the simple difference approach.  This might be because the simple difference approach only takes into account the values of treatment and control group post-treatment, as compared to the difference-in-difference approach which also weighs pre-treatment values into consideration while evaluating the impact.\n",
    "\n",
    "* What is the counterfactual assumption underlying this estimate? \n",
    "\n",
    "The counterfactual assumption underlying this estimate is that in the absence of treatment, the enrollment rates in both the treatment and control groups must have changed by the same amount, which is why we can measure the impact of Progresa by calculating essentially how much did the average enrollment rate of the treatment group differ in post-treatment as compared to its expected value in post-treatment if there was no treatment."
   ]
  },
  {
   "cell_type": "markdown",
   "metadata": {},
   "source": [
    "### 2.5 Difference-in-Difference, version 1 (regression)\n",
    "\n",
    "Now we use a regression specification to estimate the average treatment effects of the program in a difference-in-differences framework. Include at least 5 control variables."
   ]
  },
  {
   "cell_type": "code",
   "execution_count": 15,
   "metadata": {
    "collapsed": false
   },
   "outputs": [
    {
     "name": "stdout",
     "output_type": "stream",
     "text": [
      "                            OLS Regression Results                            \n",
      "==============================================================================\n",
      "Dep. Variable:                     sc   R-squared:                       0.273\n",
      "Model:                            OLS   Adj. R-squared:                  0.273\n",
      "Method:                 Least Squares   F-statistic:                     2670.\n",
      "Date:                Tue, 20 Dec 2016   Prob (F-statistic):               0.00\n",
      "Time:                        21:08:08   Log-Likelihood:                -16386.\n",
      "No. Observations:               56893   AIC:                         3.279e+04\n",
      "Df Residuals:                   56884   BIC:                         3.287e+04\n",
      "Df Model:                           8                                         \n",
      "Covariance Type:            nonrobust                                         \n",
      "=================================================================================\n",
      "                    coef    std err          t      P>|t|      [95.0% Conf. Int.]\n",
      "---------------------------------------------------------------------------------\n",
      "Intercept         1.5370      0.008    181.111      0.000         1.520     1.554\n",
      "progresa          0.0053      0.004      1.385      0.166        -0.002     0.013\n",
      "year              0.0330      0.004      7.468      0.000         0.024     0.042\n",
      "progresa:year     0.0304      0.006      5.426      0.000         0.019     0.041\n",
      "age              -0.0657      0.000   -143.581      0.000        -0.067    -0.065\n",
      "fam_n            -0.0017      0.001     -2.890      0.004        -0.003    -0.001\n",
      "hohsex            0.0103      0.005      1.960      0.050         1e-06     0.021\n",
      "indig             0.0515      0.003     17.739      0.000         0.046     0.057\n",
      "dist_sec         -0.0112      0.001    -17.677      0.000        -0.012    -0.010\n",
      "==============================================================================\n",
      "Omnibus:                     5648.319   Durbin-Watson:                   1.476\n",
      "Prob(Omnibus):                  0.000   Jarque-Bera (JB):             7514.389\n",
      "Skew:                          -0.887   Prob(JB):                         0.00\n",
      "Kurtosis:                       3.152   Cond. No.                         95.4\n",
      "==============================================================================\n",
      "\n",
      "Warnings:\n",
      "[1] Standard Errors assume that the covariance matrix of the errors is correctly specified.\n",
      "\n",
      "Co-efficient of the interaction term in regression is 0.0303778026201\n"
     ]
    }
   ],
   "source": [
    "# Adding some control variables that were not staistically different at the baseline and fitting a multiple regression model\n",
    "new_2 = smf.ols(formula = 'sc ~ progresa + year + progresa*year + age + fam_n + hohsex + indig + dist_sec', data = progresa[progresa.poor==1]).fit()\n",
    "\n",
    "# Printing the summary table of the fitted linear regression\n",
    "print new_2.summary()\n",
    "\n",
    "# Printing the co-efficient of the interaction variable\n",
    "print '\\nCo-efficient of the interaction term in regression is',new_2.params[3]"
   ]
  },
  {
   "cell_type": "markdown",
   "metadata": {},
   "source": [
    "* What is your estimate of the impact of Progresa? Be very specific in interpreting your coefficients and standard errors, and make sure to specify exactly what units you are measuring and estimating.\n",
    "\n",
    "My estimate of the impact of the Progresa treatment is around 0.0304 with a standard error of 0.006.  I get these values from the above summary table for the fitted regression model, where the interaction term essentially denotes the the actual effect of treatment in the difference-in-difference context.  Thus, the co-efficient of the product (interaction) term becomes the estimate of the impact of the treatment with the corresponding standard error.  \n",
    "\n",
    "The difference-in-difference approach estimates the impact of treatment as:\n",
    "(Treatment group's post observation - Treatment group's pre observation) - (Control group's post observation - Control group's pre observation)\n",
    "\n",
    "\n",
    "* How do these estimates of the treatment effect compare to the estimates based on the simple difference?\n",
    "\n",
    "The estimates of the treatment effect in the difference-in-difference approach is, lower than the estimates based on the simple difference in terms of co-efficient (0.0304 in this case compared to 0.0356 in simple difference) but has a slightly higher standard error of 0.006, compared to 0.004 in the previous case.\n",
    "\n",
    "* How do these estimates compare to the difference-in-difference estimates from 2.4 above? What accounts for these differences?\n",
    "\n",
    "The impact estimate of treatment on enrollment is just slightly lesser with additional control variables (0.0304) compared to the difference-in-difference estimates from 2.4 above (0.0307). The difference is not much - when additional control variables were added in the simple difference case, the estimated impact changed by a comparatively higher degree as compared to the change in estimate made by difference-in-difference on addition of control variables.  Hence, we can comment that the difference-in-difference approach has a better performance in measuring the impact of the treatment.\n",
    "\n",
    "Nonetheless, the slight difference in difference-in-difference approach can be attributed to the fact that additional control variables like age,hohsex,hohsex,indig and dist_sec also have a non-zero impact on the enrollment rate, even in the difference-in-difference approach.  However, the impact of control variables is much lesser in this case as compared to the simple difference approach.\n",
    "\n",
    "* What is the counterfactual assumption underlying this regression? \n",
    "\n",
    "The counterfactual assumption underlying this regression is that the change in enrollment rate from 1997 to 1998 should have been the same for the poor households in the treatment and control group, provided that the values of the control variables like age,hohsex,hohsex,indig and dist_sec remain the same as well."
   ]
  },
  {
   "cell_type": "markdown",
   "metadata": {},
   "source": [
    "### 2.6 Difference-in-Difference, version 2\n",
    "\n",
    "In the previous problem, we estimated a difference-in-differences model that compared changes in enrollment rates over time across treatment and control villages. An alternative approach would be to compare enrollment rates in 1998 between poor and non-poor across treatment and control villages. "
   ]
  },
  {
   "cell_type": "code",
   "execution_count": 16,
   "metadata": {
    "collapsed": false
   },
   "outputs": [
    {
     "name": "stdout",
     "output_type": "stream",
     "text": [
      "                            OLS Regression Results                            \n",
      "==============================================================================\n",
      "Dep. Variable:                     sc   R-squared:                       0.264\n",
      "Model:                            OLS   Adj. R-squared:                  0.264\n",
      "Method:                 Least Squares   F-statistic:                     1223.\n",
      "Date:                Tue, 20 Dec 2016   Prob (F-statistic):               0.00\n",
      "Time:                        21:08:21   Log-Likelihood:                -8815.6\n",
      "No. Observations:               30665   AIC:                         1.765e+04\n",
      "Df Residuals:                   30655   BIC:                         1.773e+04\n",
      "Df Model:                           9                                         \n",
      "Covariance Type:            nonrobust                                         \n",
      "=================================================================================\n",
      "                    coef    std err          t      P>|t|      [95.0% Conf. Int.]\n",
      "---------------------------------------------------------------------------------\n",
      "Intercept         1.5348      0.014    113.463      0.000         1.508     1.561\n",
      "progresa          0.0267      0.010      2.715      0.007         0.007     0.046\n",
      "poor             -0.0149      0.008     -1.783      0.075        -0.031     0.001\n",
      "progresa:poor     0.0082      0.011      0.772      0.440        -0.013     0.029\n",
      "age              -0.0654      0.001    -99.777      0.000        -0.067    -0.064\n",
      "hohsex            0.0050      0.007      0.693      0.488        -0.009     0.019\n",
      "hohedu            0.0088      0.001     12.439      0.000         0.007     0.010\n",
      "sex               0.0308      0.004      8.358      0.000         0.024     0.038\n",
      "indig             0.0500      0.004     12.182      0.000         0.042     0.058\n",
      "dist_sec         -0.0115      0.001    -13.029      0.000        -0.013    -0.010\n",
      "==============================================================================\n",
      "Omnibus:                     3267.203   Durbin-Watson:                   1.723\n",
      "Prob(Omnibus):                  0.000   Jarque-Bera (JB):             4432.430\n",
      "Skew:                          -0.928   Prob(JB):                         0.00\n",
      "Kurtosis:                       3.166   Cond. No.                         122.\n",
      "==============================================================================\n",
      "\n",
      "Warnings:\n",
      "[1] Standard Errors assume that the covariance matrix of the errors is correctly specified.\n",
      "\n",
      "Co-efficient of the interaction term in regression is 0.00821817801313\n"
     ]
    }
   ],
   "source": [
    "# Creating f3 to store all the entires in 1998\n",
    "f3 = progresa[progresa.year==1]\n",
    "\n",
    "# Columns 'progresa' and 'poor' with the same control variables as above and fitting multiple regression model\n",
    "new_3 = smf.ols(formula = 'sc ~ progresa + poor + progresa*poor + age + hohsex + hohedu + sex + indig + dist_sec', data = f3).fit()\n",
    "\n",
    "# Printing the summary table of regression\n",
    "print new_3.summary()\n",
    "\n",
    "# Printing the co-efficient of the interaction variable\n",
    "print '\\nCo-efficient of the interaction term in regression is',new_3.params[3]"
   ]
  },
  {
   "cell_type": "markdown",
   "metadata": {},
   "source": [
    "* How would we estimate this version of the treatment effects in a regression model? \n",
    "\n",
    "We would estimate this version of the treatment effects in a regression model by checking the value of the co-efficient of the interaction term in the regression function (in this case- the co-efficient of the term 'progresa*poor').  Here, it is 0.0082 which means it has only a 0.82% impact on the enrollment rate.\n",
    "\n",
    "* What is the counterfactual assumption underlying this regression?\n",
    "\n",
    "The counterfactual assumption underlying this regression is that in the absence of treatment, the difference between the average enrollment rates of the treatment and control groups should be the same for poor and non-poor families.\n",
    "\n",
    "* How do these treatment effects compare to the estimates above?\n",
    "\n",
    "These treatment effects are much lower (in the order of 0.008) as compared to the estimates above (0.03), which means that which are poor and in the treament group have, on on average, an enrollment rate of only 0.008 higher than those who are not.  In the earlier case, this difference was as high as 0.03.\n",
    "\n",
    "* Discuss some possible explanations for differences or similarities.\n",
    "\n",
    "The PROGRESA treatment had an impact in the sense that it might have increased the enrollment rate of the poor in treatment villages in 1998 (post-treatment period) as compared to 1997 (pre-treatment period).  Hence, the estimate in the earlier case of measuring impact versus time is a more accurate deterministic of the impact of treatment.  In this approach, however, we compare the difference in enrollment rates in the poor and non-poor families in 1998 instead which is not a good idea as it does not take into account the enrollment rates pre-treatment and hence does not really estimate how the treatment impacted the poor over time.  \n",
    "\n",
    "Taking the difference in enrollment rates of the poor and non-poor over the treatment and control groups fails to take into account the possible increase in enrollment rates of the non-poor as well which is not something we are concerned about as the PROGRESA treatment concerns itself with the poor only."
   ]
  },
  {
   "cell_type": "markdown",
   "metadata": {},
   "source": [
    "### 2.7 Spillover effects\n",
    "\n",
    "Thus far, we have focused on the impact of PROGRESA on poor households. Repeat your analysis in 2.5, instead focusing on the impact of PROGRESA on non-poor households. \n",
    "\n",
    "* Let us describe one or two reasons why PROGRESA might have impacted non-poor households.\n",
    "\n",
    "While the PROGRESA treatment is meant to not affect non-poor households, there might have been some errors in program administration errors nonetheless, accounting for a few unplanned mappings of families to groups. \n",
    "\n",
    "Putting errors aside, let us consider this case - Now since the welfare threshold for selection may be known in public, the non-poor households with incomes just slightly greater than the threshold may start spending some of their money to send their children to school and in this way, their income may eventually fall below the threshold, thus enabling them to become receipents of the PROGRESA treatment for the next year. There might be similar differential spillover effects by gender, age, and other household characteristics.\n",
    "\n",
    "On a moral tone, there is also a possibility that after witnessing the stress of the government on education through PROGRESA plans, non-poor families might be motivated to send their kids to the schools, so they can be at-par with the children of poor families receiving grants to attend schools, thus impacting the enrollment rates of children in non-poor households."
   ]
  },
  {
   "cell_type": "code",
   "execution_count": 14,
   "metadata": {
    "collapsed": false
   },
   "outputs": [
    {
     "name": "stdout",
     "output_type": "stream",
     "text": [
      "                            OLS Regression Results                            \n",
      "==============================================================================\n",
      "Dep. Variable:                     sc   R-squared:                       0.002\n",
      "Model:                            OLS   Adj. R-squared:                  0.001\n",
      "Method:                 Least Squares   F-statistic:                     5.993\n",
      "Date:                Tue, 20 Dec 2016   Prob (F-statistic):           0.000447\n",
      "Time:                        21:02:18   Log-Likelihood:                -5317.6\n",
      "No. Observations:               10229   AIC:                         1.064e+04\n",
      "Df Residuals:                   10225   BIC:                         1.067e+04\n",
      "Df Model:                           3                                         \n",
      "Covariance Type:            nonrobust                                         \n",
      "=================================================================================\n",
      "                    coef    std err          t      P>|t|      [95.0% Conf. Int.]\n",
      "---------------------------------------------------------------------------------\n",
      "Intercept         0.7637      0.009     89.460      0.000         0.747     0.780\n",
      "progresa          0.0317      0.011      2.879      0.004         0.010     0.053\n",
      "year              0.0176      0.013      1.371      0.170        -0.008     0.043\n",
      "progresa:year    -0.0022      0.017     -0.134      0.893        -0.035     0.030\n",
      "==============================================================================\n",
      "Omnibus:                     1987.211   Durbin-Watson:                   1.453\n",
      "Prob(Omnibus):                  0.000   Jarque-Bera (JB):             3439.592\n",
      "Skew:                          -1.420   Prob(JB):                         0.00\n",
      "Kurtosis:                       3.028   Cond. No.                         7.34\n",
      "==============================================================================\n",
      "\n",
      "Warnings:\n",
      "[1] Standard Errors assume that the covariance matrix of the errors is correctly specified.\n",
      "\n",
      "Co-efficient of the interaction term in regression is -0.0022178677265\n"
     ]
    }
   ],
   "source": [
    "# Fitting multiple regression model with progresa and year and the interaction term between the two\n",
    "new_4 = smf.ols(formula = 'sc ~ progresa + year + progresa*year', data = progresa[progresa.poor==0]).fit()\n",
    "\n",
    "# Printing the summary table of regression\n",
    "print new_4.summary()\n",
    "\n",
    "# Printing the co-efficient of the interaction variable\n",
    "print '\\nCo-efficient of the interaction term in regression is',new_4.params[3]"
   ]
  },
  {
   "cell_type": "markdown",
   "metadata": {},
   "source": [
    "* B: Any impacts of PROGRESA on the non-poor?\n",
    "\n",
    "As we can see from the above regression-summary table, the co-efficient of the interaction term is quite low, i.e., -0.0022 with a corresponding P-value of 0.893 which is too high to reject the null hypothesis of there actually being not a significant impact of PROGRESA on the poor.  Thus, we do not observe any significant impacts of PROGRESA on the non-poor households."
   ]
  },
  {
   "cell_type": "markdown",
   "metadata": {},
   "source": [
    "### 2.8 Summary\n",
    "\n",
    "Based on all the analysis you have undertaken to date, do you believe that Progresa had a causal impact on the enrollment rates of poor households in Mexico?"
   ]
  },
  {
   "cell_type": "markdown",
   "metadata": {},
   "source": [
    "The first criterion to classify a relationship as causal is to run a randomized experiment and verify the results for causality, like we have already done above.  The poor households were randomly classified in treatment and control and thus, there was no bias in that sense. Based on all the analysis undertaken above, we can certainly conclude that there was a correlation between the enrollment rates of the poor in Mexico and the Progresa program.  The impact of the treatment is associated with roughly 3-4% increase with standard errors of roughly 0.4-0.6% in the enrollment rates of poor households in the treatment group as seen in the analyses 2.1 - 2.5:\n",
    "\n",
    "- Simple differences (T-test & regression): The impact of treatment had a co-efficient of 0.03833, i.e., 3.83% impact.  The associated P-value was less than 0.05.\n",
    "\n",
    "- Multiple regression: The impact of treatment had a co-efficient of 0.0356, i.e., 3.56% impact.  The associated P-value was less than 0.05.\n",
    "\n",
    "- Difference-in-difference (tabular): The impact was estimated to be 0.0307, i.e., 3.07% impact.\n",
    "\n",
    "- Difference-in-difference (regression): The impact of the interaction term (treatment effect) had a co-efficient of 0.0304, i.e., 3.04% impact.  The associated P-value was less than 0.05.\n",
    "\n",
    "Thus, in each of the cases, the treatment had an impact on the enrollment rate and the associated P-value in each of the cases was less than 0.05, thus implying a statistically significant impact of the treatment on the enrollment rates.\n",
    "\n",
    "Now that we have interpreted that the correlation is strong, let us consider some other facts - \n",
    "\n",
    "- When we try and analyze the difference in enrollment rate between the poor and non-poor families over treatment and control, we understand that the impact is not at all significant in this case (0.22% impact with an associated P-value of 0.893) which means that there fails to be any other explanation to weigh the impact of PROGRESA over time, since the effect occurs after cause, thus ensuring specificity and temporality.\n",
    "\n",
    "- The effect is also plausible since there is a logical understanding between receiving grants to send children to school and the resultant increae in enrollment rates, which means that this effect is directly related to the cause and it is not some sort of a spillover effect with an additional hidden reasoning resulting to this output.\n",
    "\n",
    "- Similarly coherent poverty alleviation strategies at other countries have also resulted in an increase in the average enrollemt rates of schools, which means that there clearly is an established analogy between the treatment effects and the enrollment rates and PROGRESA is not the only one of its kind, thus making it reasonable to call this effect as causal than merely correlational.\n",
    "\n",
    "\n",
    "Since we account for strength, specificity, temporality, plausibility, coherence and anology of this relationship in a randomized experiment platform, we can safely conclude that Progresa, indeed, had a causal impact on the enrollment rates of poor households in Mexico."
   ]
  }
 ],
 "metadata": {
  "anaconda-cloud": {},
  "kernelspec": {
   "display_name": "Python [default]",
   "language": "python",
   "name": "python2"
  },
  "language_info": {
   "codemirror_mode": {
    "name": "ipython",
    "version": 2
   },
   "file_extension": ".py",
   "mimetype": "text/x-python",
   "name": "python",
   "nbconvert_exporter": "python",
   "pygments_lexer": "ipython2",
   "version": "2.7.12"
  }
 },
 "nbformat": 4,
 "nbformat_minor": 0
}
